{
 "cells": [
  {
   "cell_type": "markdown",
   "metadata": {},
   "source": [
    "# Examples Notebook\n"
   ]
  },
  {
   "cell_type": "markdown",
   "metadata": {},
   "source": [
    "### Creating an Empty Portfolio."
   ]
  },
  {
   "cell_type": "markdown",
   "metadata": {},
   "source": [
    "Portfolio objects require a `SQLite` database corresponding to them, you must specify the path to an existing one or the path where you wish one to be created."
   ]
  },
  {
   "cell_type": "code",
   "execution_count": 9,
   "metadata": {},
   "outputs": [],
   "source": [
    "from Portfolio import Portfolio\n",
    "\n",
    "# Here we create a Portfolio object, if the database does not exist it will be created and initalised with the correct\n",
    "# table. If the database already exists it will be connected to.\n",
    "\n",
    "path = r'database.db'\n",
    "port = Portfolio(path)"
   ]
  },
  {
   "cell_type": "markdown",
   "metadata": {},
   "source": [
    "### Adding Positions"
   ]
  },
  {
   "cell_type": "markdown",
   "metadata": {},
   "source": [
    " As we all want to make money on the stock market, we will have to make trades or have already made trades. In either case we want to track how well we are doing so we should add them to the portfolio."
   ]
  },
  {
   "cell_type": "markdown",
   "metadata": {},
   "source": [
    "#### Adding a single position, with a known purchase price."
   ]
  },
  {
   "cell_type": "markdown",
   "metadata": {},
   "source": [
    "The `add_position_single` method is used to add a single position to the database when we know the price we purchased at. There is currently no support for different currencies, but this will be added soon."
   ]
  },
  {
   "cell_type": "code",
   "execution_count": 10,
   "metadata": {},
   "outputs": [],
   "source": [
    "# The add_position_single method takes five arguments, all of which are required. They are as follows:\n",
    "# 1. The ticker of the stock, \n",
    "# 2. The direction of the trade, either 'long' or 'short'\n",
    "# 3. The number of shares purchased\n",
    "# 4. The purchase_price.\n",
    "# 5. The date of purchase, of the form 'YYYY-MM-DD'.\n",
    "\n",
    "ticker = 'AAPL'\n",
    "direction = 'long'\n",
    "shares = 100\n",
    "purchase_price = 100.0\n",
    "date = '2021-01-01'\n",
    "\n",
    "port.add_position_single(ticker, direction, shares, purchase_price, date)"
   ]
  },
  {
   "cell_type": "markdown",
   "metadata": {},
   "source": [
    "#### Adding multiple positions at once, with a known purchase price."
   ]
  },
  {
   "cell_type": "markdown",
   "metadata": {},
   "source": [
    "To add multiple positions to the portfolio, we use the `add_position_df` method which takes a pandas dataframe as input."
   ]
  },
  {
   "cell_type": "code",
   "execution_count": 11,
   "metadata": {},
   "outputs": [
    {
     "name": "stdout",
     "output_type": "stream",
     "text": [
      "    shares  purchase_price\n",
      "0      100      100.000000\n",
      "1      100      100.000000\n",
      "2      200      200.000000\n",
      "3      300      300.000000\n",
      "4      100      100.000000\n",
      "5      100      100.000000\n",
      "6      200      200.000000\n",
      "7      300      300.000000\n",
      "8      100      100.000000\n",
      "9      100      100.000000\n",
      "10     200      200.000000\n",
      "11     300      300.000000\n",
      "12     100      100.000000\n",
      "13     100      100.000000\n",
      "14     200      200.000000\n",
      "15     300      300.000000\n",
      "16     100        0.412500\n",
      "17     200       26.719999\n",
      "18     300        2.502503\n",
      "19     100      100.000000\n",
      "20     100      100.000000\n",
      "21     200      200.000000\n",
      "22     300      300.000000\n",
      "23     100        0.412500\n",
      "24     200       26.719999\n",
      "25     300        2.502503\n",
      "26     100      100.000000\n",
      "27     100      100.000000\n",
      "28     200      200.000000\n",
      "29     300      300.000000\n",
      "30     100        0.412500\n",
      "31     200       26.719999\n",
      "32     300        2.502503\n",
      "33     100      100.000000\n",
      "34     100      100.000000\n",
      "35     200      200.000000\n",
      "36     300      300.000000\n",
      "37     100        0.412500\n",
      "38     200       26.719999\n",
      "39     300        2.502503\n",
      "40     100      100.000000\n",
      "41     100      100.000000\n",
      "42     200      200.000000\n",
      "43     300      300.000000\n",
      "44     100        0.412500\n",
      "45     200       26.719999\n",
      "46     300        2.502503\n",
      "47     100      100.000000\n",
      "48     100      100.000000\n",
      "49     200      200.000000\n",
      "50     300      300.000000\n"
     ]
    }
   ],
   "source": [
    "import pandas as pd\n",
    "\n",
    "# The add_position_df method takes a single argument a pandas DataFrame. The DataFrame must have the following\n",
    "# columns: 'ticker', 'direction', 'shares', 'purchase_price', 'date'. The 'date' column must be of the form 'YYYY-MM-DD'.\n",
    "\n",
    "data = pd.DataFrame({'symbol': ['AAPL', 'MSFT', 'GOOGL'], \n",
    "                     'direction': ['long', 'long', 'long'],\n",
    "                     'shares': [100, 200, 300], \n",
    "                     'purchase_price': [100.0, 200.0, 300.0], \n",
    "                     'purchase_date': ['2021-01-01', '2021-01-02', '2021-01-03']})\n",
    "\n",
    "port.add_position_df(data)\n",
    "print(port)"
   ]
  },
  {
   "cell_type": "markdown",
   "metadata": {},
   "source": [
    "#### Adding multiple positions when only purchase date is known."
   ]
  },
  {
   "cell_type": "markdown",
   "metadata": {},
   "source": [
    "Often, we may want to backtest a signal hence we will wish to simulate trades that happened in the past. It is hence useful to have a method which can be given a trade at a certain date which will fetch the opening or closing price of the symbol, emulating that we purchased it. This is the purpose of the `add_past_position` method, which uses `yahooquery` to fetch the opening or close price on the `purchase_date`.\n",
    "\n",
    "One current caveat of `add_past_position` it adds trades which took place on the same day, hence it takes `purchase_date` as a seperate argument."
   ]
  },
  {
   "cell_type": "code",
   "execution_count": 12,
   "metadata": {},
   "outputs": [
    {
     "name": "stdout",
     "output_type": "stream",
     "text": [
      "    shares  purchase_price\n",
      "0      100      100.000000\n",
      "1      100      100.000000\n",
      "2      200      200.000000\n",
      "3      300      300.000000\n",
      "4      100      100.000000\n",
      "5      100      100.000000\n",
      "6      200      200.000000\n",
      "7      300      300.000000\n",
      "8      100      100.000000\n",
      "9      100      100.000000\n",
      "10     200      200.000000\n",
      "11     300      300.000000\n",
      "12     100      100.000000\n",
      "13     100      100.000000\n",
      "14     200      200.000000\n",
      "15     300      300.000000\n",
      "16     100        0.412500\n",
      "17     200       26.719999\n",
      "18     300        2.502503\n",
      "19     100      100.000000\n",
      "20     100      100.000000\n",
      "21     200      200.000000\n",
      "22     300      300.000000\n",
      "23     100        0.412500\n",
      "24     200       26.719999\n",
      "25     300        2.502503\n",
      "26     100      100.000000\n",
      "27     100      100.000000\n",
      "28     200      200.000000\n",
      "29     300      300.000000\n",
      "30     100        0.412500\n",
      "31     200       26.719999\n",
      "32     300        2.502503\n",
      "33     100      100.000000\n",
      "34     100      100.000000\n",
      "35     200      200.000000\n",
      "36     300      300.000000\n",
      "37     100        0.412500\n",
      "38     200       26.719999\n",
      "39     300        2.502503\n",
      "40     100      100.000000\n",
      "41     100      100.000000\n",
      "42     200      200.000000\n",
      "43     300      300.000000\n",
      "44     100        0.412500\n",
      "45     200       26.719999\n",
      "46     300        2.502503\n",
      "47     100      100.000000\n",
      "48     100      100.000000\n",
      "49     200      200.000000\n",
      "50     300      300.000000\n",
      "51     100        0.412500\n",
      "52     200       26.719999\n",
      "53     300        2.502503\n"
     ]
    }
   ],
   "source": [
    "# The add_position_df method takes three arguments a pandas DataFrame, purchase date and type\n",
    "# which defaults to open. \n",
    "# The DataFrame must have the following columns: 'ticker', 'direction', 'shares'. \n",
    "\n",
    "type = 'open'\n",
    "purchase_date = '2004-02-17'\n",
    "data_past = pd.DataFrame({'symbol': ['AAPL', 'MSFT', 'GOOGL'], \n",
    "                     'direction': ['long', 'long', 'long'],\n",
    "                     'shares': [100, 200, 300]})\n",
    "\n",
    "port.add_past_position(data_past, purchase_date, type)\n",
    "print(port)"
   ]
  },
  {
   "cell_type": "markdown",
   "metadata": {},
   "source": [
    "### Evaluating the portfolio"
   ]
  },
  {
   "cell_type": "markdown",
   "metadata": {},
   "source": [
    "Well how much money have we made? You ask. We need methods which allow us to track how well our portfolio is performing! The first of which, is how much money we invested origionaly in our portfolio (aka when we created all of our trades.)."
   ]
  },
  {
   "cell_type": "markdown",
   "metadata": {},
   "source": [
    "#### Intial Valuation."
   ]
  },
  {
   "cell_type": "code",
   "execution_count": 13,
   "metadata": {},
   "outputs": [
    {
     "name": "stdout",
     "output_type": "stream",
     "text": [
      "1386816.0044252872\n"
     ]
    }
   ],
   "source": [
    "# Get the inital value of the portfolio.\n",
    "print(port.initalValue())"
   ]
  },
  {
   "cell_type": "markdown",
   "metadata": {},
   "source": [
    "#### Current / Past Valuation"
   ]
  },
  {
   "cell_type": "markdown",
   "metadata": {},
   "source": [
    "This method allows us to be more specific, we can choose whether we want to see absolute/percentage profit. See how the portfolio has profited on a day in the past, at open or at close, or simply the current valuation of the portfolio at its current point in the day. We give an example of each below."
   ]
  },
  {
   "cell_type": "code",
   "execution_count": 14,
   "metadata": {},
   "outputs": [
    {
     "name": "stdout",
     "output_type": "stream",
     "text": [
      "907374.0102231503\n",
      "0.5095987744453575\n"
     ]
    }
   ],
   "source": [
    "# Getting the current absolute profit of the portfolio.\n",
    "print(port.absoluteProfit())\n",
    "\n",
    "# Getting the percentage profit of at close, for a date in the past. \n",
    "print(port.percentageProfit('close', '2022-01-01'))"
   ]
  },
  {
   "cell_type": "markdown",
   "metadata": {},
   "source": [
    "### When we wish to sell after a certain amount of days."
   ]
  },
  {
   "cell_type": "markdown",
   "metadata": {},
   "source": [
    "The function `trade_sell_after` will calculate the profit of the portfolio if the trades were to be cashed out after a certain amount of days. This does not alter the portfolo. "
   ]
  },
  {
   "cell_type": "code",
   "execution_count": 15,
   "metadata": {},
   "outputs": [
    {
     "name": "stdout",
     "output_type": "stream",
     "text": [
      "-0.35485269756821175\n",
      "-0.2519067448110928\n"
     ]
    }
   ],
   "source": [
    "# Trade_sell_after takes the argument days which must be an integer..\n",
    "print(port.trade_sell_after(1))\n",
    "print(port.trade_sell_after(100))"
   ]
  },
  {
   "cell_type": "markdown",
   "metadata": {},
   "source": [
    "### Metrics and Illustrations."
   ]
  },
  {
   "cell_type": "markdown",
   "metadata": {},
   "source": [
    "We will want to understand how our portolfio is doing, there are a number of ways to do that. The first Illustrates how each individual trade is performing."
   ]
  },
  {
   "cell_type": "code",
   "execution_count": 17,
   "metadata": {},
   "outputs": [
    {
     "name": "stdout",
     "output_type": "stream",
     "text": [
      "Percentage of positions profiting: 83.33333333333334%\n",
      "            Positions that are up: [symbol                  AAPL\n",
      "direction               long\n",
      "shares                   100\n",
      "purchase_price         100.0\n",
      "purchase_date     2021-01-01\n",
      "Name: 0, dtype: object, symbol                  AAPL\n",
      "direction               long\n",
      "shares                   100\n",
      "purchase_price         100.0\n",
      "purchase_date     2021-01-01\n",
      "Name: 1, dtype: object, symbol                  MSFT\n",
      "direction               long\n",
      "shares                   200\n",
      "purchase_price         200.0\n",
      "purchase_date     2021-01-02\n",
      "Name: 2, dtype: object, symbol                  AAPL\n",
      "direction               long\n",
      "shares                   100\n",
      "purchase_price         100.0\n",
      "purchase_date     2021-01-01\n",
      "Name: 4, dtype: object, symbol                  AAPL\n",
      "direction               long\n",
      "shares                   100\n",
      "purchase_price         100.0\n",
      "purchase_date     2021-01-01\n",
      "Name: 5, dtype: object, symbol                  MSFT\n",
      "direction               long\n",
      "shares                   200\n",
      "purchase_price         200.0\n",
      "purchase_date     2021-01-02\n",
      "Name: 6, dtype: object, symbol                  AAPL\n",
      "direction               long\n",
      "shares                   100\n",
      "purchase_price         100.0\n",
      "purchase_date     2021-01-01\n",
      "Name: 8, dtype: object, symbol                  AAPL\n",
      "direction               long\n",
      "shares                   100\n",
      "purchase_price         100.0\n",
      "purchase_date     2021-01-01\n",
      "Name: 9, dtype: object, symbol                  MSFT\n",
      "direction               long\n",
      "shares                   200\n",
      "purchase_price         200.0\n",
      "purchase_date     2021-01-02\n",
      "Name: 10, dtype: object, symbol                  AAPL\n",
      "direction               long\n",
      "shares                   100\n",
      "purchase_price         100.0\n",
      "purchase_date     2021-01-01\n",
      "Name: 12, dtype: object, symbol                  AAPL\n",
      "direction               long\n",
      "shares                   100\n",
      "purchase_price         100.0\n",
      "purchase_date     2021-01-01\n",
      "Name: 13, dtype: object, symbol                  MSFT\n",
      "direction               long\n",
      "shares                   200\n",
      "purchase_price         200.0\n",
      "purchase_date     2021-01-02\n",
      "Name: 14, dtype: object, symbol                  AAPL\n",
      "direction               long\n",
      "shares                   100\n",
      "purchase_price        0.4125\n",
      "purchase_date     2004-02-17\n",
      "Name: 16, dtype: object, symbol                  MSFT\n",
      "direction               long\n",
      "shares                   200\n",
      "purchase_price     26.719999\n",
      "purchase_date     2004-02-17\n",
      "Name: 17, dtype: object, symbol                 GOOGL\n",
      "direction               long\n",
      "shares                   300\n",
      "purchase_price      2.502503\n",
      "purchase_date     2004-02-17\n",
      "Name: 18, dtype: object, symbol                  AAPL\n",
      "direction               long\n",
      "shares                   100\n",
      "purchase_price         100.0\n",
      "purchase_date     2021-01-01\n",
      "Name: 19, dtype: object, symbol                  AAPL\n",
      "direction               long\n",
      "shares                   100\n",
      "purchase_price         100.0\n",
      "purchase_date     2021-01-01\n",
      "Name: 20, dtype: object, symbol                  MSFT\n",
      "direction               long\n",
      "shares                   200\n",
      "purchase_price         200.0\n",
      "purchase_date     2021-01-02\n",
      "Name: 21, dtype: object, symbol                  AAPL\n",
      "direction               long\n",
      "shares                   100\n",
      "purchase_price        0.4125\n",
      "purchase_date     2004-02-17\n",
      "Name: 23, dtype: object, symbol                  MSFT\n",
      "direction               long\n",
      "shares                   200\n",
      "purchase_price     26.719999\n",
      "purchase_date     2004-02-17\n",
      "Name: 24, dtype: object, symbol                 GOOGL\n",
      "direction               long\n",
      "shares                   300\n",
      "purchase_price      2.502503\n",
      "purchase_date     2004-02-17\n",
      "Name: 25, dtype: object, symbol                  AAPL\n",
      "direction               long\n",
      "shares                   100\n",
      "purchase_price         100.0\n",
      "purchase_date     2021-01-01\n",
      "Name: 26, dtype: object, symbol                  AAPL\n",
      "direction               long\n",
      "shares                   100\n",
      "purchase_price         100.0\n",
      "purchase_date     2021-01-01\n",
      "Name: 27, dtype: object, symbol                  MSFT\n",
      "direction               long\n",
      "shares                   200\n",
      "purchase_price         200.0\n",
      "purchase_date     2021-01-02\n",
      "Name: 28, dtype: object, symbol                  AAPL\n",
      "direction               long\n",
      "shares                   100\n",
      "purchase_price        0.4125\n",
      "purchase_date     2004-02-17\n",
      "Name: 30, dtype: object, symbol                  MSFT\n",
      "direction               long\n",
      "shares                   200\n",
      "purchase_price     26.719999\n",
      "purchase_date     2004-02-17\n",
      "Name: 31, dtype: object, symbol                 GOOGL\n",
      "direction               long\n",
      "shares                   300\n",
      "purchase_price      2.502503\n",
      "purchase_date     2004-02-17\n",
      "Name: 32, dtype: object, symbol                  AAPL\n",
      "direction               long\n",
      "shares                   100\n",
      "purchase_price         100.0\n",
      "purchase_date     2021-01-01\n",
      "Name: 33, dtype: object, symbol                  AAPL\n",
      "direction               long\n",
      "shares                   100\n",
      "purchase_price         100.0\n",
      "purchase_date     2021-01-01\n",
      "Name: 34, dtype: object, symbol                  MSFT\n",
      "direction               long\n",
      "shares                   200\n",
      "purchase_price         200.0\n",
      "purchase_date     2021-01-02\n",
      "Name: 35, dtype: object, symbol                  AAPL\n",
      "direction               long\n",
      "shares                   100\n",
      "purchase_price        0.4125\n",
      "purchase_date     2004-02-17\n",
      "Name: 37, dtype: object, symbol                  MSFT\n",
      "direction               long\n",
      "shares                   200\n",
      "purchase_price     26.719999\n",
      "purchase_date     2004-02-17\n",
      "Name: 38, dtype: object, symbol                 GOOGL\n",
      "direction               long\n",
      "shares                   300\n",
      "purchase_price      2.502503\n",
      "purchase_date     2004-02-17\n",
      "Name: 39, dtype: object, symbol                  AAPL\n",
      "direction               long\n",
      "shares                   100\n",
      "purchase_price         100.0\n",
      "purchase_date     2021-01-01\n",
      "Name: 40, dtype: object, symbol                  AAPL\n",
      "direction               long\n",
      "shares                   100\n",
      "purchase_price         100.0\n",
      "purchase_date     2021-01-01\n",
      "Name: 41, dtype: object, symbol                  MSFT\n",
      "direction               long\n",
      "shares                   200\n",
      "purchase_price         200.0\n",
      "purchase_date     2021-01-02\n",
      "Name: 42, dtype: object, symbol                  AAPL\n",
      "direction               long\n",
      "shares                   100\n",
      "purchase_price        0.4125\n",
      "purchase_date     2004-02-17\n",
      "Name: 44, dtype: object, symbol                  MSFT\n",
      "direction               long\n",
      "shares                   200\n",
      "purchase_price     26.719999\n",
      "purchase_date     2004-02-17\n",
      "Name: 45, dtype: object, symbol                 GOOGL\n",
      "direction               long\n",
      "shares                   300\n",
      "purchase_price      2.502503\n",
      "purchase_date     2004-02-17\n",
      "Name: 46, dtype: object, symbol                  AAPL\n",
      "direction               long\n",
      "shares                   100\n",
      "purchase_price         100.0\n",
      "purchase_date     2021-01-01\n",
      "Name: 47, dtype: object, symbol                  AAPL\n",
      "direction               long\n",
      "shares                   100\n",
      "purchase_price         100.0\n",
      "purchase_date     2021-01-01\n",
      "Name: 48, dtype: object, symbol                  MSFT\n",
      "direction               long\n",
      "shares                   200\n",
      "purchase_price         200.0\n",
      "purchase_date     2021-01-02\n",
      "Name: 49, dtype: object, symbol                  AAPL\n",
      "direction               long\n",
      "shares                   100\n",
      "purchase_price        0.4125\n",
      "purchase_date     2004-02-17\n",
      "Name: 51, dtype: object, symbol                  MSFT\n",
      "direction               long\n",
      "shares                   200\n",
      "purchase_price     26.719999\n",
      "purchase_date     2004-02-17\n",
      "Name: 52, dtype: object, symbol                 GOOGL\n",
      "direction               long\n",
      "shares                   300\n",
      "purchase_price      2.502503\n",
      "purchase_date     2004-02-17\n",
      "Name: 53, dtype: object]\n",
      "            Positions that are down: [symbol                 GOOGL\n",
      "direction               long\n",
      "shares                   300\n",
      "purchase_price         300.0\n",
      "purchase_date     2021-01-03\n",
      "Name: 3, dtype: object, symbol                 GOOGL\n",
      "direction               long\n",
      "shares                   300\n",
      "purchase_price         300.0\n",
      "purchase_date     2021-01-03\n",
      "Name: 7, dtype: object, symbol                 GOOGL\n",
      "direction               long\n",
      "shares                   300\n",
      "purchase_price         300.0\n",
      "purchase_date     2021-01-03\n",
      "Name: 11, dtype: object, symbol                 GOOGL\n",
      "direction               long\n",
      "shares                   300\n",
      "purchase_price         300.0\n",
      "purchase_date     2021-01-03\n",
      "Name: 15, dtype: object, symbol                 GOOGL\n",
      "direction               long\n",
      "shares                   300\n",
      "purchase_price         300.0\n",
      "purchase_date     2021-01-03\n",
      "Name: 22, dtype: object, symbol                 GOOGL\n",
      "direction               long\n",
      "shares                   300\n",
      "purchase_price         300.0\n",
      "purchase_date     2021-01-03\n",
      "Name: 29, dtype: object, symbol                 GOOGL\n",
      "direction               long\n",
      "shares                   300\n",
      "purchase_price         300.0\n",
      "purchase_date     2021-01-03\n",
      "Name: 36, dtype: object, symbol                 GOOGL\n",
      "direction               long\n",
      "shares                   300\n",
      "purchase_price         300.0\n",
      "purchase_date     2021-01-03\n",
      "Name: 43, dtype: object, symbol                 GOOGL\n",
      "direction               long\n",
      "shares                   300\n",
      "purchase_price         300.0\n",
      "purchase_date     2021-01-03\n",
      "Name: 50, dtype: object]\n",
      "3.6683953510442715e-06\n"
     ]
    }
   ],
   "source": [
    "print(port.upDown(verbose=True))\n",
    "print(port.sharpe_ratio())"
   ]
  }
 ],
 "metadata": {
  "kernelspec": {
   "display_name": "Python 3",
   "language": "python",
   "name": "python3"
  },
  "language_info": {
   "codemirror_mode": {
    "name": "ipython",
    "version": 3
   },
   "file_extension": ".py",
   "mimetype": "text/x-python",
   "name": "python",
   "nbconvert_exporter": "python",
   "pygments_lexer": "ipython3",
   "version": "3.12.1"
  }
 },
 "nbformat": 4,
 "nbformat_minor": 2
}
